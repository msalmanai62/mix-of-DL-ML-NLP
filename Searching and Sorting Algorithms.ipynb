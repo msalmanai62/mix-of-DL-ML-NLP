{
 "cells": [
  {
   "cell_type": "markdown",
   "id": "d2f94dc6",
   "metadata": {},
   "source": [
    "# Sorting Algorithms"
   ]
  },
  {
   "cell_type": "markdown",
   "id": "c7d4d76e",
   "metadata": {},
   "source": [
    "## Bubble Sort"
   ]
  },
  {
   "cell_type": "code",
   "execution_count": 1,
   "id": "14332f55",
   "metadata": {},
   "outputs": [
    {
     "name": "stdout",
     "output_type": "stream",
     "text": [
      "Orignal array:  [7, 5, 4, 3, 1, 0]\n",
      "Sorted array:  [0, 1, 3, 4, 5, 7]\n"
     ]
    }
   ],
   "source": [
    "\"------------------------------Bubble Sort--------------------------\"\n",
    "def bubble_sort(A):\n",
    "    print(\"Orignal array: \", A)\n",
    "    aa = len(A)\n",
    "    for i in range(aa-1):\n",
    "        for j in range(i+1, aa):\n",
    "            if A[i] > A[j]:\n",
    "                temp = A[i]\n",
    "                A[i] = A[j]\n",
    "                A[j] = temp\n",
    "    print(\"Sorted array: \", A)\n",
    "A = [7, 5, 4, 3, 1, 0]\n",
    "bubble_sort(A)"
   ]
  },
  {
   "cell_type": "markdown",
   "id": "08c36d74",
   "metadata": {},
   "source": [
    "## Selection Sort"
   ]
  },
  {
   "cell_type": "code",
   "execution_count": 2,
   "id": "3ec4934c",
   "metadata": {},
   "outputs": [
    {
     "name": "stdout",
     "output_type": "stream",
     "text": [
      "Given array1 [7, 5, 4, 3, 1, 0]\n",
      "Sorted array1:  [0, 1, 3, 4, 5, 7]\n"
     ]
    }
   ],
   "source": [
    "\"------------------------------Selection Sort--------------------------\"\n",
    "def selection_sort(A):\n",
    "    print(\"Given array1\", A)\n",
    "    aa = len(A)\n",
    "    for i in range(aa-1):\n",
    "        min_ = i\n",
    "        for j in range(i+1, aa):\n",
    "            if A[j] < A[min_]:\n",
    "                min_ = j\n",
    "        if min_ != i:\n",
    "            A[i], A[min_] = A[min_], A[i]\n",
    "    print(\"Sorted array1: \", A)\n",
    "B = [7, 5, 4, 3, 1, 0]\n",
    "selection_sort(B)"
   ]
  },
  {
   "cell_type": "markdown",
   "id": "54e92bfe",
   "metadata": {},
   "source": [
    "## Insertion Sort"
   ]
  },
  {
   "cell_type": "code",
   "execution_count": 6,
   "id": "06c18502",
   "metadata": {},
   "outputs": [
    {
     "name": "stdout",
     "output_type": "stream",
     "text": [
      "Give array2:  [7, 5, 4, 3, 1, 0]\n",
      "Sorted array2:  [0, 1, 3, 4, 5, 7]\n"
     ]
    }
   ],
   "source": [
    "\"------------------------------Insertion Sort--------------------------\"\n",
    "def insertion_sort(array):\n",
    "    print(\"Give array2: \", array)\n",
    "    aa = len(array)\n",
    "    for i in range(aa):\n",
    "        key = array[i]\n",
    "        j = i-1\n",
    "        while j >= 0 and array[j]>key:\n",
    "            array[j+1] = array[j]\n",
    "            j = j-1\n",
    "        array[j+1] = key\n",
    "    print(\"Sorted array2: \", array)\n",
    "C = [7, 5, 4, 3, 1, 0]\n",
    "insertion_sort(C)"
   ]
  },
  {
   "cell_type": "markdown",
   "id": "712e7477",
   "metadata": {},
   "source": [
    "# Searching Algorithms"
   ]
  },
  {
   "cell_type": "markdown",
   "id": "f66d91b9",
   "metadata": {},
   "source": [
    "## Sequential Search"
   ]
  },
  {
   "cell_type": "code",
   "execution_count": 16,
   "id": "ded52185",
   "metadata": {},
   "outputs": [
    {
     "name": "stdout",
     "output_type": "stream",
     "text": [
      "Enter number to search in array: 0\n",
      "number found at index:  5\n"
     ]
    }
   ],
   "source": [
    "\"--------------------------------Sequential Search--------------------------------\"\n",
    "def sequential_search(A):\n",
    "    find = int(input(\"Enter number to search in array: \"))\n",
    "    loc = -1\n",
    "    for i in A:\n",
    "        if find == i:\n",
    "            loc = A.index(i)\n",
    "    if loc != -1:\n",
    "        print(\"number found at index: \", loc)\n",
    "    else:\n",
    "        print(\"number not found\")\n",
    "D = [7, 5, 4, 3, 1, 0]\n",
    "sequential_search(D)"
   ]
  },
  {
   "cell_type": "markdown",
   "id": "fa15c6b6",
   "metadata": {},
   "source": [
    "## Binary Search"
   ]
  },
  {
   "cell_type": "code",
   "execution_count": 42,
   "id": "ee5039dc",
   "metadata": {},
   "outputs": [
    {
     "name": "stdout",
     "output_type": "stream",
     "text": [
      "Enter number to search in array: 4\n",
      "number found at index:  3\n"
     ]
    }
   ],
   "source": [
    "\"--------------------------------Binary Search--------------------------------\"\n",
    "def binary_search(array):\n",
    "    find_ = int(input(\"Enter number to search in array: \"))\n",
    "    loc = -1\n",
    "    start = 0\n",
    "    end = len(array)\n",
    "    while start <= end:\n",
    "        mid = (start+end)//2\n",
    "        if find_ == array[mid]:\n",
    "            loc = mid\n",
    "            break\n",
    "        elif find_ > array[mid]:\n",
    "            start  = mid+1\n",
    "        else:\n",
    "            end = mid-1\n",
    "            \n",
    "    if loc != -1:\n",
    "        print(\"number found at index: \", loc)\n",
    "    else:\n",
    "        print(\"number not found\")\n",
    "E = [0, 1, 3, 4, 5, 7]\n",
    "binary_search(E)"
   ]
  },
  {
   "cell_type": "code",
   "execution_count": null,
   "id": "ce58b8b1",
   "metadata": {},
   "outputs": [],
   "source": []
  }
 ],
 "metadata": {
  "kernelspec": {
   "display_name": "Python 3 (ipykernel)",
   "language": "python",
   "name": "python3"
  },
  "language_info": {
   "codemirror_mode": {
    "name": "ipython",
    "version": 3
   },
   "file_extension": ".py",
   "mimetype": "text/x-python",
   "name": "python",
   "nbconvert_exporter": "python",
   "pygments_lexer": "ipython3",
   "version": "3.9.7"
  }
 },
 "nbformat": 4,
 "nbformat_minor": 5
}
